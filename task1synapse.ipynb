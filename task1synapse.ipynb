{
 "cells": [
  {
   "cell_type": "code",
   "execution_count": null,
   "source": [
    "import cv2\r\n",
    "\r\n",
    "\r\n",
    "image= cv2.imread('Containers.png')\r\n",
    "task1image= image\r\n",
    "\r\n",
    "gray= cv2.cvtColor(image,cv2.COLOR_BGR2GRAY)\r\n",
    "\r\n",
    "edges= cv2.Canny(gray, 50,200)\r\n",
    "\r\n",
    "contours, hierarchy= cv2.findContours(edges.copy(), cv2.RETR_EXTERNAL, cv2.CHAIN_APPROX_NONE)\r\n",
    "\r\n",
    "\r\n",
    "cv2.destroyAllWindows()\r\n",
    "\r\n",
    "\r\n",
    "def get_all_areas(contours):\r\n",
    "\r\n",
    "    all_areas= []\r\n",
    "\r\n",
    "    for cnt in contours:\r\n",
    "        area= cv2.contourArea(cnt)\r\n",
    "        all_areas.append(area)\r\n",
    "\r\n",
    "    return all_areas\r\n",
    "\r\n",
    "\r\n",
    "sorted_contours= sorted(contours, key=cv2.contourArea, reverse= True)\r\n",
    "\r\n",
    "\r\n",
    "largestrectangle= sorted_contours[0]\r\n",
    "\r\n",
    "cv2.drawContours(task1image, largestrectangle, -1, (255,0,0),10)\r\n",
    "cv2.waitKey(0)\r\n",
    "cv2.imshow('Largest Object', task1image)\r\n",
    "\r\n",
    "\r\n",
    "cv2.waitKey(0)\r\n",
    "cv2.destroyAllWindows()"
   ],
   "outputs": [],
   "metadata": {}
  },
  {
   "cell_type": "code",
   "execution_count": null,
   "source": [],
   "outputs": [],
   "metadata": {}
  }
 ],
 "metadata": {
  "kernelspec": {
   "display_name": "Python 3 (ipykernel)",
   "language": "python",
   "name": "python3"
  },
  "language_info": {
   "codemirror_mode": {
    "name": "ipython",
    "version": 3
   },
   "file_extension": ".py",
   "mimetype": "text/x-python",
   "name": "python",
   "nbconvert_exporter": "python",
   "pygments_lexer": "ipython3",
   "version": "3.9.5"
  }
 },
 "nbformat": 4,
 "nbformat_minor": 5
}